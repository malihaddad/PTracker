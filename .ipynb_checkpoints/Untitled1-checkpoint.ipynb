{
 "cells": [
  {
   "cell_type": "code",
   "execution_count": 1,
   "metadata": {
    "collapsed": true
   },
   "outputs": [],
   "source": [
    "import scipy.io\n",
    "import numpy as np\n",
    "import random"
   ]
  },
  {
   "cell_type": "code",
   "execution_count": 2,
   "metadata": {
    "collapsed": true
   },
   "outputs": [],
   "source": [
    "x = scipy.io.loadmat('DATA/mergedData.mat')\n",
    "datatot = x['datarawpr']"
   ]
  },
  {
   "cell_type": "code",
   "execution_count": 3,
   "metadata": {
    "collapsed": true
   },
   "outputs": [],
   "source": [
    "x2 = scipy.io.loadmat('DATA/dd.mat')\n",
    "dd = x2['dd']\n",
    "\n",
    "M = np.hstack((dd,datatot))\n",
    "M[np.isnan(M)]=0.0"
   ]
  },
  {
   "cell_type": "code",
   "execution_count": 5,
   "metadata": {
    "collapsed": false
   },
   "outputs": [],
   "source": [
    "vars={}"
   ]
  },
  {
   "cell_type": "code",
   "execution_count": 8,
   "metadata": {
    "collapsed": true
   },
   "outputs": [],
   "source": [
    "per = np.prod(1+(M[1000:1500,1:10]-M[999:1499,1:10])/100,axis=0)\n",
    "per = per/np.sum(per)*100\n"
   ]
  },
  {
   "cell_type": "code",
   "execution_count": 9,
   "metadata": {
    "collapsed": false
   },
   "outputs": [
    {
     "name": "stdout",
     "output_type": "stream",
     "text": [
      "[ 10.32240907  12.37057597   5.18691075  11.09478285  11.397408    13.4668408\n",
      "  13.09423913  10.9495445   12.11728893]\n"
     ]
    }
   ],
   "source": [
    "print per"
   ]
  },
  {
   "cell_type": "code",
   "execution_count": 10,
   "metadata": {
    "collapsed": false
   },
   "outputs": [
    {
     "data": {
      "text/plain": [
       "100.0"
      ]
     },
     "execution_count": 10,
     "metadata": {},
     "output_type": "execute_result"
    }
   ],
   "source": [
    "sum(per)"
   ]
  },
  {
   "cell_type": "code",
   "execution_count": 11,
   "metadata": {
    "collapsed": true
   },
   "outputs": [],
   "source": [
    "vars['perL']=per"
   ]
  },
  {
   "cell_type": "code",
   "execution_count": 33,
   "metadata": {
    "collapsed": true
   },
   "outputs": [],
   "source": [
    "l=['Non-Energy Minerals',\n",
    "                            'Producer Manufacturing',\n",
    "                            'Electronic Technology',\n",
    "                            'Consumer Durables',\n",
    "                            'Energy Minerals',\n",
    "                            'Process Industries',\n",
    "                            'Health Technology',\n",
    "                            'Consumer Non-Durables',\n",
    "                            'Industrial Services',\n",
    "                            'Commercial Services',\n",
    "                            'Distribution Services',\n",
    "                            'Technology Services',\n",
    "                            'Health Services',\n",
    "                            'Consumer Services',\n",
    "                            'Retail Trade',\n",
    "                            'Transportation',\n",
    "                            'Utilities',\n",
    "                            'Finance',\n",
    "                            'Communications',\n",
    "                            'Miscellaneous',\n",
    "                            'Government',\n",
    "                            'Not Classified']"
   ]
  },
  {
   "cell_type": "code",
   "execution_count": 13,
   "metadata": {
    "collapsed": false
   },
   "outputs": [
    {
     "data": {
      "text/plain": [
       "list"
      ]
     },
     "execution_count": 13,
     "metadata": {},
     "output_type": "execute_result"
    }
   ],
   "source": [
    "type(l)"
   ]
  },
  {
   "cell_type": "code",
   "execution_count": 14,
   "metadata": {
    "collapsed": false
   },
   "outputs": [
    {
     "data": {
      "text/plain": [
       "dict"
      ]
     },
     "execution_count": 14,
     "metadata": {},
     "output_type": "execute_result"
    }
   ],
   "source": [
    "type(vars)"
   ]
  },
  {
   "cell_type": "code",
   "execution_count": 15,
   "metadata": {
    "collapsed": true
   },
   "outputs": [],
   "source": [
    "vars['nameL']=l"
   ]
  },
  {
   "cell_type": "code",
   "execution_count": 16,
   "metadata": {
    "collapsed": false
   },
   "outputs": [
    {
     "data": {
      "text/plain": [
       "{'nameL': ['Non-Energy Minerals',\n",
       "  'Producer Manufacturing',\n",
       "  'Electronic Technology',\n",
       "  'Consumer Durables',\n",
       "  'Energy Minerals',\n",
       "  'Process Industries',\n",
       "  'Health Technology',\n",
       "  'Consumer Non-Durables',\n",
       "  'Industrial Services',\n",
       "  'Commercial Services',\n",
       "  'Distribution Services',\n",
       "  'Technology Services',\n",
       "  'Health Services',\n",
       "  'Consumer Services',\n",
       "  'Retail Trade',\n",
       "  'Transportation',\n",
       "  'Utilities',\n",
       "  'Finance',\n",
       "  'Communications',\n",
       "  'Miscellaneous',\n",
       "  'Government',\n",
       "  'Not Classified'],\n",
       " 'perL': array([ 10.32240907,  12.37057597,   5.18691075,  11.09478285,\n",
       "         11.397408  ,  13.4668408 ,  13.09423913,  10.9495445 ,  12.11728893])}"
      ]
     },
     "execution_count": 16,
     "metadata": {},
     "output_type": "execute_result"
    }
   ],
   "source": [
    "vars"
   ]
  },
  {
   "cell_type": "code",
   "execution_count": 22,
   "metadata": {
    "collapsed": false
   },
   "outputs": [
    {
     "name": "stdout",
     "output_type": "stream",
     "text": [
      "[ 10.32240907  12.37057597   5.18691075  11.09478285  11.397408    13.4668408\n",
      "  13.09423913  10.9495445   12.11728893]\n"
     ]
    }
   ],
   "source": [
    "prcL = np.prod(1+(M[1000:1500,1:10]-M[999:1499,1:10])/100,axis=0)\n",
    "prcL = prcL/np.sum(prcL)*100\n",
    "print prcL\n"
   ]
  },
  {
   "cell_type": "code",
   "execution_count": 27,
   "metadata": {
    "collapsed": true
   },
   "outputs": [],
   "source": [
    "import json\n",
    "def arr2json(arr):\n",
    "    return json.dumps(arr.tolist())\n",
    "def json2arr(astr,dtype):\n",
    "    return np.fromiter(json.loads(astr),dtype)"
   ]
  },
  {
   "cell_type": "code",
   "execution_count": 28,
   "metadata": {
    "collapsed": false
   },
   "outputs": [
    {
     "data": {
      "text/plain": [
       "['Non-Energy Minerals',\n",
       " 'Producer Manufacturing',\n",
       " 'Electronic Technology',\n",
       " 'Consumer Durables',\n",
       " 'Energy Minerals',\n",
       " 'Process Industries',\n",
       " 'Health Technology',\n",
       " 'Consumer Non-Durables',\n",
       " 'Industrial Services',\n",
       " 'Commercial Services',\n",
       " 'Distribution Services',\n",
       " 'Technology Services',\n",
       " 'Health Services',\n",
       " 'Consumer Services',\n",
       " 'Retail Trade',\n",
       " 'Transportation',\n",
       " 'Utilities',\n",
       " 'Finance',\n",
       " 'Communications',\n",
       " 'Miscellaneous',\n",
       " 'Government',\n",
       " 'Not Classified']"
      ]
     },
     "execution_count": 28,
     "metadata": {},
     "output_type": "execute_result"
    }
   ],
   "source": [
    "l"
   ]
  },
  {
   "cell_type": "code",
   "execution_count": 30,
   "metadata": {
    "collapsed": false
   },
   "outputs": [],
   "source": [
    "ll=  arr2json(prcL)"
   ]
  },
  {
   "cell_type": "code",
   "execution_count": 31,
   "metadata": {
    "collapsed": false
   },
   "outputs": [
    {
     "data": {
      "text/plain": [
       "'[10.322409067763706, 12.37057597271926, 5.186910753287977, 11.094782851893449, 11.397408000631023, 13.466840798031129, 13.094239127551772, 10.949544498856097, 12.11728892926558]'"
      ]
     },
     "execution_count": 31,
     "metadata": {},
     "output_type": "execute_result"
    }
   ],
   "source": [
    "ll"
   ]
  },
  {
   "cell_type": "code",
   "execution_count": 34,
   "metadata": {
    "collapsed": false
   },
   "outputs": [
    {
     "ename": "AttributeError",
     "evalue": "'tuple' object has no attribute 'tolist'",
     "output_type": "error",
     "traceback": [
      "\u001b[0;31m---------------------------------------------------------------------------\u001b[0m",
      "\u001b[0;31mAttributeError\u001b[0m                            Traceback (most recent call last)",
      "\u001b[0;32m<ipython-input-34-383b9c3a5c57>\u001b[0m in \u001b[0;36m<module>\u001b[0;34m()\u001b[0m\n\u001b[0;32m----> 1\u001b[0;31m \u001b[0msl\u001b[0m \u001b[0;34m=\u001b[0m \u001b[0marr2json\u001b[0m\u001b[0;34m(\u001b[0m\u001b[0ml\u001b[0m\u001b[0;34m)\u001b[0m\u001b[0;34m\u001b[0m\u001b[0m\n\u001b[0m",
      "\u001b[0;32m<ipython-input-27-3e368f7ccd98>\u001b[0m in \u001b[0;36marr2json\u001b[0;34m(arr)\u001b[0m\n\u001b[1;32m      1\u001b[0m \u001b[0;32mimport\u001b[0m \u001b[0mjson\u001b[0m\u001b[0;34m\u001b[0m\u001b[0m\n\u001b[1;32m      2\u001b[0m \u001b[0;32mdef\u001b[0m \u001b[0marr2json\u001b[0m\u001b[0;34m(\u001b[0m\u001b[0marr\u001b[0m\u001b[0;34m)\u001b[0m\u001b[0;34m:\u001b[0m\u001b[0;34m\u001b[0m\u001b[0m\n\u001b[0;32m----> 3\u001b[0;31m     \u001b[0;32mreturn\u001b[0m \u001b[0mjson\u001b[0m\u001b[0;34m.\u001b[0m\u001b[0mdumps\u001b[0m\u001b[0;34m(\u001b[0m\u001b[0marr\u001b[0m\u001b[0;34m.\u001b[0m\u001b[0mtolist\u001b[0m\u001b[0;34m(\u001b[0m\u001b[0;34m)\u001b[0m\u001b[0;34m)\u001b[0m\u001b[0;34m\u001b[0m\u001b[0m\n\u001b[0m\u001b[1;32m      4\u001b[0m \u001b[0;32mdef\u001b[0m \u001b[0mjson2arr\u001b[0m\u001b[0;34m(\u001b[0m\u001b[0mastr\u001b[0m\u001b[0;34m,\u001b[0m\u001b[0mdtype\u001b[0m\u001b[0;34m)\u001b[0m\u001b[0;34m:\u001b[0m\u001b[0;34m\u001b[0m\u001b[0m\n\u001b[1;32m      5\u001b[0m     \u001b[0;32mreturn\u001b[0m \u001b[0mnp\u001b[0m\u001b[0;34m.\u001b[0m\u001b[0mfromiter\u001b[0m\u001b[0;34m(\u001b[0m\u001b[0mjson\u001b[0m\u001b[0;34m.\u001b[0m\u001b[0mloads\u001b[0m\u001b[0;34m(\u001b[0m\u001b[0mastr\u001b[0m\u001b[0;34m)\u001b[0m\u001b[0;34m,\u001b[0m\u001b[0mdtype\u001b[0m\u001b[0;34m)\u001b[0m\u001b[0;34m\u001b[0m\u001b[0m\n",
      "\u001b[0;31mAttributeError\u001b[0m: 'tuple' object has no attribute 'tolist'"
     ]
    }
   ],
   "source": [
    "sl = arr2json(l)"
   ]
  },
  {
   "cell_type": "code",
   "execution_count": 35,
   "metadata": {
    "collapsed": false
   },
   "outputs": [
    {
     "data": {
      "text/plain": [
       "('Non-Energy Minerals',\n",
       " 'Producer Manufacturing',\n",
       " 'Electronic Technology',\n",
       " 'Consumer Durables',\n",
       " 'Energy Minerals',\n",
       " 'Process Industries',\n",
       " 'Health Technology',\n",
       " 'Consumer Non-Durables',\n",
       " 'Industrial Services',\n",
       " 'Commercial Services',\n",
       " 'Distribution Services',\n",
       " 'Technology Services',\n",
       " 'Health Services',\n",
       " 'Consumer Services',\n",
       " 'Retail Trade',\n",
       " 'Transportation',\n",
       " 'Utilities',\n",
       " 'Finance',\n",
       " 'Communications',\n",
       " 'Miscellaneous',\n",
       " 'Government',\n",
       " 'Not Classified')"
      ]
     },
     "execution_count": 35,
     "metadata": {},
     "output_type": "execute_result"
    }
   ],
   "source": [
    "l"
   ]
  },
  {
   "cell_type": "code",
   "execution_count": 36,
   "metadata": {
    "collapsed": false
   },
   "outputs": [
    {
     "data": {
      "text/plain": [
       "tuple"
      ]
     },
     "execution_count": 36,
     "metadata": {},
     "output_type": "execute_result"
    }
   ],
   "source": [
    "type(l)"
   ]
  },
  {
   "cell_type": "code",
   "execution_count": 37,
   "metadata": {
    "collapsed": false
   },
   "outputs": [
    {
     "data": {
      "text/plain": [
       "'[\"Non-Energy Minerals\", \"Producer Manufacturing\", \"Electronic Technology\", \"Consumer Durables\", \"Energy Minerals\", \"Process Industries\", \"Health Technology\", \"Consumer Non-Durables\", \"Industrial Services\", \"Commercial Services\", \"Distribution Services\", \"Technology Services\", \"Health Services\", \"Consumer Services\", \"Retail Trade\", \"Transportation\", \"Utilities\", \"Finance\", \"Communications\", \"Miscellaneous\", \"Government\", \"Not Classified\"]'"
      ]
     },
     "execution_count": 37,
     "metadata": {},
     "output_type": "execute_result"
    }
   ],
   "source": [
    "json.dumps(l)"
   ]
  },
  {
   "cell_type": "code",
   "execution_count": 38,
   "metadata": {
    "collapsed": false
   },
   "outputs": [
    {
     "data": {
      "text/plain": [
       "'[10.322409067763706, 12.37057597271926, 5.186910753287977, 11.094782851893449, 11.397408000631023, 13.466840798031129, 13.094239127551772, 10.949544498856097, 12.11728892926558]'"
      ]
     },
     "execution_count": 38,
     "metadata": {},
     "output_type": "execute_result"
    }
   ],
   "source": [
    "arr2json(prcL)"
   ]
  },
  {
   "cell_type": "code",
   "execution_count": 39,
   "metadata": {
    "collapsed": false
   },
   "outputs": [
    {
     "data": {
      "text/plain": [
       "array([ 10.32240907,  12.37057597,   5.18691075,  11.09478285,\n",
       "        11.397408  ,  13.4668408 ,  13.09423913,  10.9495445 ,  12.11728893])"
      ]
     },
     "execution_count": 39,
     "metadata": {},
     "output_type": "execute_result"
    }
   ],
   "source": [
    "prcL"
   ]
  },
  {
   "cell_type": "code",
   "execution_count": 41,
   "metadata": {
    "collapsed": false
   },
   "outputs": [],
   "source": [
    "ll=arr2json(prcL)"
   ]
  },
  {
   "cell_type": "code",
   "execution_count": 42,
   "metadata": {
    "collapsed": false
   },
   "outputs": [
    {
     "data": {
      "text/plain": [
       "str"
      ]
     },
     "execution_count": 42,
     "metadata": {},
     "output_type": "execute_result"
    }
   ],
   "source": [
    "type(ll)"
   ]
  },
  {
   "cell_type": "code",
   "execution_count": 43,
   "metadata": {
    "collapsed": false
   },
   "outputs": [
    {
     "data": {
      "text/plain": [
       "'[10.322409067763706, 12.37057597271926, 5.186910753287977, 11.094782851893449, 11.397408000631023, 13.466840798031129, 13.094239127551772, 10.949544498856097, 12.11728892926558]'"
      ]
     },
     "execution_count": 43,
     "metadata": {},
     "output_type": "execute_result"
    }
   ],
   "source": [
    "ll"
   ]
  },
  {
   "cell_type": "code",
   "execution_count": 44,
   "metadata": {
    "collapsed": false
   },
   "outputs": [
    {
     "ename": "NameError",
     "evalue": "name 'secL' is not defined",
     "output_type": "error",
     "traceback": [
      "\u001b[0;31m---------------------------------------------------------------------------\u001b[0m",
      "\u001b[0;31mNameError\u001b[0m                                 Traceback (most recent call last)",
      "\u001b[0;32m<ipython-input-44-c706a6ce4383>\u001b[0m in \u001b[0;36m<module>\u001b[0;34m()\u001b[0m\n\u001b[0;32m----> 1\u001b[0;31m \u001b[0mmm\u001b[0m\u001b[0;34m=\u001b[0m\u001b[0mjson\u001b[0m\u001b[0;34m.\u001b[0m\u001b[0mdumps\u001b[0m\u001b[0;34m(\u001b[0m\u001b[0msecL\u001b[0m\u001b[0;34m)\u001b[0m\u001b[0;34m\u001b[0m\u001b[0m\n\u001b[0m",
      "\u001b[0;31mNameError\u001b[0m: name 'secL' is not defined"
     ]
    }
   ],
   "source": [
    "mm=json.dumps(secL)"
   ]
  },
  {
   "cell_type": "code",
   "execution_count": null,
   "metadata": {
    "collapsed": true
   },
   "outputs": [],
   "source": []
  }
 ],
 "metadata": {
  "kernelspec": {
   "display_name": "Python 2",
   "language": "python",
   "name": "python2"
  },
  "language_info": {
   "codemirror_mode": {
    "name": "ipython",
    "version": 2
   },
   "file_extension": ".py",
   "mimetype": "text/x-python",
   "name": "python",
   "nbconvert_exporter": "python",
   "pygments_lexer": "ipython2",
   "version": "2.7.11"
  }
 },
 "nbformat": 4,
 "nbformat_minor": 0
}
