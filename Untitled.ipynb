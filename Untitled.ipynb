{
 "cells": [
  {
   "cell_type": "code",
   "execution_count": 1,
   "metadata": {
    "collapsed": true
   },
   "outputs": [],
   "source": [
    "import scipy.io as spio\n",
    "import numpy as np"
   ]
  },
  {
   "cell_type": "code",
   "execution_count": 2,
   "metadata": {
    "collapsed": true
   },
   "outputs": [],
   "source": [
    "def loadmat(filename):\n",
    "    '''\n",
    "    this function should be called instead of direct spio.loadmat\n",
    "    as it cures the problem of not properly recovering python dictionaries\n",
    "    from mat files. It calls the function check keys to cure all entries\n",
    "    which are still mat-objects\n",
    "    '''\n",
    "    data = spio.loadmat(filename, struct_as_record=False, squeeze_me=True)\n",
    "    return _check_keys(data)\n",
    "\n",
    "def _check_keys(dict):\n",
    "    '''\n",
    "    checks if entries in dictionary are mat-objects. If yes\n",
    "    todict is called to change them to nested dictionaries\n",
    "    '''\n",
    "    for key in dict:\n",
    "        if isinstance(dict[key], spio.matlab.mio5_params.mat_struct):\n",
    "            dict[key] = _todict(dict[key])\n",
    "    return dict\n",
    "\n",
    "def _todict(matobj):\n",
    "    '''\n",
    "    A recursive function which constructs from matobjects nested dictionaries\n",
    "    '''\n",
    "    dict = {}\n",
    "    for strg in matobj._fieldnames:\n",
    "        elem = matobj.__dict__[strg]\n",
    "        if isinstance(elem, spio.matlab.mio5_params.mat_struct):\n",
    "            dict[strg] = _todict(elem)\n",
    "        else:\n",
    "            dict[strg] = elem\n",
    "    return dict\n"
   ]
  },
  {
   "cell_type": "code",
   "execution_count": 3,
   "metadata": {
    "collapsed": false
   },
   "outputs": [],
   "source": [
    "#load Data 1\n",
    "x = loadmat('DATA/dataPAT.mat');"
   ]
  },
  {
   "cell_type": "code",
   "execution_count": 50,
   "metadata": {
    "collapsed": true
   },
   "outputs": [],
   "source": [
    "udates=x['udates']\n",
    "dates=x['dates']\n",
    "datatot=x['datatot']\n",
    "tickers=x['tickers']\n",
    "sdata=x['sdata']\n",
    "v2=x['ave_vlist2']\n",
    "v3=x['ave_vlist3']\n",
    "\n",
    "vlist2=x['vlist2']"
   ]
  },
  {
   "cell_type": "code",
   "execution_count": 51,
   "metadata": {
    "collapsed": true
   },
   "outputs": [],
   "source": [
    "secL = {'Non-Energy Minerals':1100,\n",
    "         'Producer Manufacturing':1200,'Electronic Technology':1300,'Consumer Durables':1400,\n",
    "        'Energy Minerals':2100,'Process Industries':2200,'Health Technology':2300,'Consumer Non-Durables':2400,\n",
    "        'Industrial Services':3100,'Commercial Services':3200,'Distribution Services':3250,'Technology Services':3300,\n",
    "        'Health Services':3350,'Consumer Services':3400,'Retail Trade':3500,'Transportation':4600,\n",
    "        'Utilities':4700,'Finance':4800,'Communications':4900,'Miscellaneous':6000,'Government':7000,'Not Classified':9999,\n",
    "         }\n"
   ]
  },
  {
   "cell_type": "code",
   "execution_count": 52,
   "metadata": {
    "collapsed": true
   },
   "outputs": [],
   "source": [
    "def get_sectorWeights(wP):\n",
    "\n",
    "    idl = np.where(wP!=0)\n",
    "    idl = idl[0]\n",
    "    wP = wP[idl]\n",
    "    sector = sdata[idl]\n",
    "\n",
    "    wsec = {}\n",
    "\n",
    "    for sec in secL.keys():\n",
    "        fi = np.where(sector==secL[sec])\n",
    "        fi = fi[0]\n",
    "   \n",
    "        if len(fi):\n",
    "            wsec[sec] = np.sum(wP[fi])\n",
    "            \n",
    "\n",
    "    return wsec\n",
    "\n",
    "def get_piecharts(period,portfolio_position):\n",
    "\n",
    "    # use last day of the interval\n",
    "    wP = portfolio_position[-1].weights\n",
    "\n",
    "    # Long\n",
    "    idL= np.where(wP>0)\n",
    "    idL=idL[0]\n",
    "    idS = np.where(wP<0)\n",
    "    idS=idS[0]\n",
    "\n",
    "    wsecL = get_sectorWeights(wP*(wP>0))\n",
    "    wsecS = get_sectorWeights(wP*(wP<0))\n",
    "\n",
    "    return wsecL, wsecS\n",
    "\n",
    "\n",
    "\n"
   ]
  },
  {
   "cell_type": "code",
   "execution_count": 53,
   "metadata": {
    "collapsed": false
   },
   "outputs": [],
   "source": [
    "vL = v2[-1].weights\n",
    "vS = v3[-1].weights"
   ]
  },
  {
   "cell_type": "code",
   "execution_count": 54,
   "metadata": {
    "collapsed": false
   },
   "outputs": [],
   "source": [
    "wsL = get_sectorWeights(vL)\n",
    "wsS = get_sectorWeights(vS)"
   ]
  },
  {
   "cell_type": "code",
   "execution_count": 58,
   "metadata": {
    "collapsed": false
   },
   "outputs": [],
   "source": [
    "wbench=np.zeros(len(vL))\n",
    "vm=vlist2[-1]"
   ]
  },
  {
   "cell_type": "code",
   "execution_count": 62,
   "metadata": {
    "collapsed": false
   },
   "outputs": [],
   "source": [
    "wbench[vm.list]=1.0\n",
    "wbench = wbench/np.sum(wbench)"
   ]
  },
  {
   "cell_type": "code",
   "execution_count": 63,
   "metadata": {
    "collapsed": false
   },
   "outputs": [
    {
     "data": {
      "text/plain": [
       "1.0000000000000007"
      ]
     },
     "execution_count": 63,
     "metadata": {},
     "output_type": "execute_result"
    }
   ],
   "source": [
    "sum(wbench)"
   ]
  },
  {
   "cell_type": "code",
   "execution_count": 64,
   "metadata": {
    "collapsed": false
   },
   "outputs": [
    {
     "data": {
      "text/plain": [
       "500"
      ]
     },
     "execution_count": 64,
     "metadata": {},
     "output_type": "execute_result"
    }
   ],
   "source": [
    "sum(wbench>0)"
   ]
  },
  {
   "cell_type": "code",
   "execution_count": 83,
   "metadata": {
    "collapsed": false
   },
   "outputs": [],
   "source": [
    "id = np.where(vL!=0)\n",
    "id = id[0]\n",
    "vL=vL[id]"
   ]
  },
  {
   "cell_type": "code",
   "execution_count": 85,
   "metadata": {
    "collapsed": false
   },
   "outputs": [],
   "source": [
    "a=datatot[-100:,id]*vL"
   ]
  },
  {
   "cell_type": "code",
   "execution_count": 81,
   "metadata": {
    "collapsed": true
   },
   "outputs": [],
   "source": [
    "a=datatot[-100:-1,id]*wb"
   ]
  },
  {
   "cell_type": "code",
   "execution_count": 87,
   "metadata": {
    "collapsed": false
   },
   "outputs": [],
   "source": [
    "ret=np.nansum(a[:,1:21],axis=1)"
   ]
  },
  {
   "cell_type": "code",
   "execution_count": 88,
   "metadata": {
    "collapsed": false
   },
   "outputs": [
    {
     "data": {
      "text/plain": [
       "(100,)"
      ]
     },
     "execution_count": 88,
     "metadata": {},
     "output_type": "execute_result"
    }
   ],
   "source": [
    "ret.shape"
   ]
  },
  {
   "cell_type": "code",
   "execution_count": 91,
   "metadata": {
    "collapsed": true
   },
   "outputs": [],
   "source": [
    "b=(np.prod(1+ret/100)-1)*100"
   ]
  },
  {
   "cell_type": "code",
   "execution_count": 92,
   "metadata": {
    "collapsed": false
   },
   "outputs": [
    {
     "data": {
      "text/plain": [
       "2.2203304948923863"
      ]
     },
     "execution_count": 92,
     "metadata": {},
     "output_type": "execute_result"
    }
   ],
   "source": [
    "b"
   ]
  },
  {
   "cell_type": "code",
   "execution_count": 94,
   "metadata": {
    "collapsed": false
   },
   "outputs": [
    {
     "name": "stderr",
     "output_type": "stream",
     "text": [
      "/Users/user/anaconda/lib/python2.7/site-packages/IPython/html.py:14: ShimWarning: The `IPython.html` package has been deprecated. You should import from `notebook` instead. `IPython.html.widgets` has moved to `ipywidgets`.\n",
      "  \"`IPython.html.widgets` has moved to `ipywidgets`.\", ShimWarning)\n"
     ]
    }
   ],
   "source": [
    "import seaborn as sns"
   ]
  },
  {
   "cell_type": "code",
   "execution_count": 102,
   "metadata": {
    "collapsed": true
   },
   "outputs": [],
   "source": [
    "a=sns.color_palette(\"coolwarm\", 22)"
   ]
  },
  {
   "cell_type": "code",
   "execution_count": 103,
   "metadata": {
    "collapsed": false
   },
   "outputs": [
    {
     "data": {
      "text/plain": [
       "[(0.28054995023529411, 0.37342316908235296, 0.81801074330980394),\n",
       " (0.33349047938039217, 0.44626521940392155, 0.87445216970980388),\n",
       " (0.38885187195294113, 0.51629843557647059, 0.9213734830823529),\n",
       " (0.44643064241568631, 0.58235642654117648, 0.95737330548627453),\n",
       " (0.50542264282352933, 0.6439946735686275, 0.98315743127450983),\n",
       " (0.56518158122352935, 0.69943844494117635, 0.99663507011764707),\n",
       " (0.62470323761176472, 0.74831848723529415, 0.99871946558039215),\n",
       " (0.68818848319215686, 0.79317837929803914, 0.98803810435686279),\n",
       " (0.74375420262745096, 0.82512536488235289, 0.96579776154901964),\n",
       " (0.7960638698588236, 0.84869320578823526, 0.93347146830588235),\n",
       " (0.84335817419215675, 0.86181965401568628, 0.89001711689019614),\n",
       " (0.88775201594901965, 0.85404049749803912, 0.83467147221568627),\n",
       " (0.92556342300000005, 0.82551729807058827, 0.77113630781176468),\n",
       " (0.95095561298039222, 0.78687503333333331, 0.70476068280392157),\n",
       " (0.96589889818823527, 0.74014183860392158, 0.63705770741568624),\n",
       " (0.96889415833333337, 0.67947956342745097, 0.56281229115294118),\n",
       " (0.96049006132941173, 0.61627642394117643, 0.49546660049411767),\n",
       " (0.94172792982352937, 0.54641347701960785, 0.42970707037254902),\n",
       " (0.91203257529803927, 0.46967958217254901, 0.36656490445882356),\n",
       " (0.87340228255294117, 0.38695963905882352, 0.30633246397647063),\n",
       " (0.82529381016862746, 0.29574883809411762, 0.2500254739333333),\n",
       " (0.76892862289019626, 0.18921335770980421, 0.19796539314901973)]"
      ]
     },
     "execution_count": 103,
     "metadata": {},
     "output_type": "execute_result"
    }
   ],
   "source": [
    "a"
   ]
  },
  {
   "cell_type": "code",
   "execution_count": 105,
   "metadata": {
    "collapsed": false
   },
   "outputs": [
    {
     "data": {
      "text/plain": [
       "[u'#485fd1',\n",
       " u'#5572df',\n",
       " u'#6384eb',\n",
       " u'#7295f4',\n",
       " u'#81a4fb',\n",
       " u'#90b2fe',\n",
       " u'#9fbfff',\n",
       " u'#afcafc',\n",
       " u'#bed2f6',\n",
       " u'#cbd8ee',\n",
       " u'#d7dce3',\n",
       " u'#e2dad5',\n",
       " u'#ecd3c5',\n",
       " u'#f2c9b4',\n",
       " u'#f6bda2',\n",
       " u'#f7ad90',\n",
       " u'#f59d7e',\n",
       " u'#f08b6e',\n",
       " u'#e9785d',\n",
       " u'#df634e',\n",
       " u'#d24b40',\n",
       " u'#c43032']"
      ]
     },
     "execution_count": 105,
     "metadata": {},
     "output_type": "execute_result"
    }
   ],
   "source": [
    "a.as_hex()"
   ]
  },
  {
   "cell_type": "code",
   "execution_count": 111,
   "metadata": {
    "collapsed": false
   },
   "outputs": [],
   "source": [
    "a=np.random.randint?"
   ]
  },
  {
   "cell_type": "code",
   "execution_count": 114,
   "metadata": {
    "collapsed": true
   },
   "outputs": [],
   "source": [
    "a=np.random.randint(0,30,10)\n",
    "b=np.random.randint(0,30,10)"
   ]
  },
  {
   "cell_type": "code",
   "execution_count": 117,
   "metadata": {
    "collapsed": false
   },
   "outputs": [],
   "source": [
    "id1 = np.where(a>10)\n",
    "id1=id1[0]\n",
    "id2 = np.where(b>10)\n",
    "id2=id2[0]"
   ]
  },
  {
   "cell_type": "code",
   "execution_count": 120,
   "metadata": {
    "collapsed": false
   },
   "outputs": [
    {
     "name": "stdout",
     "output_type": "stream",
     "text": [
      "[0 1 3 4 5 8 9] [0 2 3 4 5 7 9]\n"
     ]
    }
   ],
   "source": [
    "print id1,id2"
   ]
  },
  {
   "cell_type": "code",
   "execution_count": 124,
   "metadata": {
    "collapsed": false
   },
   "outputs": [],
   "source": [
    "id = np.union1d(id1,id2)"
   ]
  },
  {
   "cell_type": "code",
   "execution_count": 133,
   "metadata": {
    "collapsed": false
   },
   "outputs": [],
   "source": [
    "i1 = np.where(id[1] in id1)"
   ]
  },
  {
   "cell_type": "code",
   "execution_count": 149,
   "metadata": {
    "collapsed": false
   },
   "outputs": [],
   "source": [
    "i1=np.in1d(id,id1)\n",
    "i2=np.in1d(id,id2)\n",
    "i1 = np.where(i1)[0]\n",
    "i2 = np.where(i2)[0]"
   ]
  },
  {
   "cell_type": "code",
   "execution_count": 150,
   "metadata": {
    "collapsed": false
   },
   "outputs": [
    {
     "data": {
      "text/plain": [
       "array([0, 1, 3, 4, 5, 7, 8])"
      ]
     },
     "execution_count": 150,
     "metadata": {},
     "output_type": "execute_result"
    }
   ],
   "source": [
    "i1"
   ]
  },
  {
   "cell_type": "code",
   "execution_count": 151,
   "metadata": {
    "collapsed": false
   },
   "outputs": [
    {
     "data": {
      "text/plain": [
       "array([0, 1, 3, 4, 5, 8, 9])"
      ]
     },
     "execution_count": 151,
     "metadata": {},
     "output_type": "execute_result"
    }
   ],
   "source": [
    "id[i1]"
   ]
  },
  {
   "cell_type": "code",
   "execution_count": 152,
   "metadata": {
    "collapsed": false
   },
   "outputs": [
    {
     "data": {
      "text/plain": [
       "array([0, 2, 3, 4, 5, 7, 9])"
      ]
     },
     "execution_count": 152,
     "metadata": {},
     "output_type": "execute_result"
    }
   ],
   "source": [
    "id[i2]"
   ]
  },
  {
   "cell_type": "code",
   "execution_count": 153,
   "metadata": {
    "collapsed": false
   },
   "outputs": [
    {
     "data": {
      "text/plain": [
       "8"
      ]
     },
     "execution_count": 153,
     "metadata": {},
     "output_type": "execute_result"
    }
   ],
   "source": [
    "id[7]"
   ]
  },
  {
   "cell_type": "code",
   "execution_count": 171,
   "metadata": {
    "collapsed": true
   },
   "outputs": [],
   "source": [
    "a={100:0,200: 20}"
   ]
  },
  {
   "cell_type": "code",
   "execution_count": 173,
   "metadata": {
    "collapsed": false
   },
   "outputs": [
    {
     "data": {
      "text/plain": [
       "0"
      ]
     },
     "execution_count": 173,
     "metadata": {},
     "output_type": "execute_result"
    }
   ],
   "source": [
    "a[100]"
   ]
  },
  {
   "cell_type": "code",
   "execution_count": 163,
   "metadata": {
    "collapsed": false
   },
   "outputs": [
    {
     "data": {
      "text/plain": [
       "1"
      ]
     },
     "execution_count": 163,
     "metadata": {},
     "output_type": "execute_result"
    }
   ],
   "source": [
    "np.int(1.0)"
   ]
  },
  {
   "cell_type": "code",
   "execution_count": null,
   "metadata": {
    "collapsed": true
   },
   "outputs": [],
   "source": []
  }
 ],
 "metadata": {
  "kernelspec": {
   "display_name": "Python 2",
   "language": "python",
   "name": "python2"
  },
  "language_info": {
   "codemirror_mode": {
    "name": "ipython",
    "version": 2
   },
   "file_extension": ".py",
   "mimetype": "text/x-python",
   "name": "python",
   "nbconvert_exporter": "python",
   "pygments_lexer": "ipython2",
   "version": "2.7.11"
  }
 },
 "nbformat": 4,
 "nbformat_minor": 0
}
